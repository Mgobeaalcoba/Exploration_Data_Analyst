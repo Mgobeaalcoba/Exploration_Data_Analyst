{
  "nbformat": 4,
  "nbformat_minor": 0,
  "metadata": {
    "colab": {
      "name": "5 - Visualizacion_de_datos_.ipynb",
      "provenance": [],
      "collapsed_sections": [],
      "include_colab_link": true
    },
    "kernelspec": {
      "name": "python3",
      "display_name": "Python 3"
    }
  },
  "cells": [
    {
      "cell_type": "markdown",
      "metadata": {
        "id": "view-in-github",
        "colab_type": "text"
      },
      "source": [
        "<a href=\"https://colab.research.google.com/github/Mgobeaalcoba/Exploration_Data_Analyst/blob/main/5_Visualizacion_de_datos_.ipynb\" target=\"_parent\"><img src=\"https://colab.research.google.com/assets/colab-badge.svg\" alt=\"Open In Colab\"/></a>"
      ]
    },
    {
      "cell_type": "markdown",
      "metadata": {
        "id": "mRtR28sV_R8i"
      },
      "source": [
        "#Introducción\n",
        "\n",
        "*Unidad 1 Visualización de datos*\n",
        "\n",
        "-----\n"
      ]
    },
    {
      "cell_type": "markdown",
      "metadata": {
        "id": "pJK5VkyIB_BV"
      },
      "source": [
        "La visualización de datos nos permite entender el valor de los datos, ver tendencias, encontrar patrones y sobre todo es cuando los datos nos hablan."
      ]
    },
    {
      "cell_type": "markdown",
      "metadata": {
        "id": "NCZtYbGcD90t"
      },
      "source": [
        "# Llamar los datos "
      ]
    },
    {
      "cell_type": "code",
      "metadata": {
        "id": "7lioyCSRey7p"
      },
      "source": [
        "#Llamamos el set de datos público \n",
        "zoo_data = 'https://archive.ics.uci.edu/ml/machine-learning-databases/zoo/zoo.data'\n",
        "\n",
        "# los nombres de las columnas se encuentran en :  'https://archive.ics.uci.edu/ml/machine-learning-databases/zoo/zoo.names'\n",
        "zoo_name= ['animal name','hair','feathers','eggs','milk','airborne','aquatic','predator','toothed','backbone','breathes','venomous','fins','legs','tail','domestic',' cat-size','type']"
      ],
      "execution_count": 1,
      "outputs": []
    },
    {
      "cell_type": "code",
      "metadata": {
        "id": "AaB6iqKvoCma"
      },
      "source": [
        "import pandas as pd"
      ],
      "execution_count": 2,
      "outputs": []
    },
    {
      "cell_type": "code",
      "metadata": {
        "id": "sMcZLE5coJiw"
      },
      "source": [
        "data = pd.read_csv(zoo_data)"
      ],
      "execution_count": 3,
      "outputs": []
    },
    {
      "cell_type": "code",
      "metadata": {
        "id": "Euv-P9-9Ed2q",
        "colab": {
          "base_uri": "https://localhost:8080/",
          "height": 206
        },
        "outputId": "cc867913-d507-4481-fdc4-aa0a852dc33a"
      },
      "source": [
        "data.head()"
      ],
      "execution_count": 4,
      "outputs": [
        {
          "output_type": "execute_result",
          "data": {
            "text/html": [
              "\n",
              "  <div id=\"df-fd80597a-28c3-4dd5-8978-6fb10c5cdea1\">\n",
              "    <div class=\"colab-df-container\">\n",
              "      <div>\n",
              "<style scoped>\n",
              "    .dataframe tbody tr th:only-of-type {\n",
              "        vertical-align: middle;\n",
              "    }\n",
              "\n",
              "    .dataframe tbody tr th {\n",
              "        vertical-align: top;\n",
              "    }\n",
              "\n",
              "    .dataframe thead th {\n",
              "        text-align: right;\n",
              "    }\n",
              "</style>\n",
              "<table border=\"1\" class=\"dataframe\">\n",
              "  <thead>\n",
              "    <tr style=\"text-align: right;\">\n",
              "      <th></th>\n",
              "      <th>aardvark</th>\n",
              "      <th>1</th>\n",
              "      <th>0</th>\n",
              "      <th>0.1</th>\n",
              "      <th>1.1</th>\n",
              "      <th>0.2</th>\n",
              "      <th>0.3</th>\n",
              "      <th>1.2</th>\n",
              "      <th>1.3</th>\n",
              "      <th>1.4</th>\n",
              "      <th>1.5</th>\n",
              "      <th>0.4</th>\n",
              "      <th>0.5</th>\n",
              "      <th>4</th>\n",
              "      <th>0.6</th>\n",
              "      <th>0.7</th>\n",
              "      <th>1.6</th>\n",
              "      <th>1.7</th>\n",
              "    </tr>\n",
              "  </thead>\n",
              "  <tbody>\n",
              "    <tr>\n",
              "      <th>0</th>\n",
              "      <td>antelope</td>\n",
              "      <td>1</td>\n",
              "      <td>0</td>\n",
              "      <td>0</td>\n",
              "      <td>1</td>\n",
              "      <td>0</td>\n",
              "      <td>0</td>\n",
              "      <td>0</td>\n",
              "      <td>1</td>\n",
              "      <td>1</td>\n",
              "      <td>1</td>\n",
              "      <td>0</td>\n",
              "      <td>0</td>\n",
              "      <td>4</td>\n",
              "      <td>1</td>\n",
              "      <td>0</td>\n",
              "      <td>1</td>\n",
              "      <td>1</td>\n",
              "    </tr>\n",
              "    <tr>\n",
              "      <th>1</th>\n",
              "      <td>bass</td>\n",
              "      <td>0</td>\n",
              "      <td>0</td>\n",
              "      <td>1</td>\n",
              "      <td>0</td>\n",
              "      <td>0</td>\n",
              "      <td>1</td>\n",
              "      <td>1</td>\n",
              "      <td>1</td>\n",
              "      <td>1</td>\n",
              "      <td>0</td>\n",
              "      <td>0</td>\n",
              "      <td>1</td>\n",
              "      <td>0</td>\n",
              "      <td>1</td>\n",
              "      <td>0</td>\n",
              "      <td>0</td>\n",
              "      <td>4</td>\n",
              "    </tr>\n",
              "    <tr>\n",
              "      <th>2</th>\n",
              "      <td>bear</td>\n",
              "      <td>1</td>\n",
              "      <td>0</td>\n",
              "      <td>0</td>\n",
              "      <td>1</td>\n",
              "      <td>0</td>\n",
              "      <td>0</td>\n",
              "      <td>1</td>\n",
              "      <td>1</td>\n",
              "      <td>1</td>\n",
              "      <td>1</td>\n",
              "      <td>0</td>\n",
              "      <td>0</td>\n",
              "      <td>4</td>\n",
              "      <td>0</td>\n",
              "      <td>0</td>\n",
              "      <td>1</td>\n",
              "      <td>1</td>\n",
              "    </tr>\n",
              "    <tr>\n",
              "      <th>3</th>\n",
              "      <td>boar</td>\n",
              "      <td>1</td>\n",
              "      <td>0</td>\n",
              "      <td>0</td>\n",
              "      <td>1</td>\n",
              "      <td>0</td>\n",
              "      <td>0</td>\n",
              "      <td>1</td>\n",
              "      <td>1</td>\n",
              "      <td>1</td>\n",
              "      <td>1</td>\n",
              "      <td>0</td>\n",
              "      <td>0</td>\n",
              "      <td>4</td>\n",
              "      <td>1</td>\n",
              "      <td>0</td>\n",
              "      <td>1</td>\n",
              "      <td>1</td>\n",
              "    </tr>\n",
              "    <tr>\n",
              "      <th>4</th>\n",
              "      <td>buffalo</td>\n",
              "      <td>1</td>\n",
              "      <td>0</td>\n",
              "      <td>0</td>\n",
              "      <td>1</td>\n",
              "      <td>0</td>\n",
              "      <td>0</td>\n",
              "      <td>0</td>\n",
              "      <td>1</td>\n",
              "      <td>1</td>\n",
              "      <td>1</td>\n",
              "      <td>0</td>\n",
              "      <td>0</td>\n",
              "      <td>4</td>\n",
              "      <td>1</td>\n",
              "      <td>0</td>\n",
              "      <td>1</td>\n",
              "      <td>1</td>\n",
              "    </tr>\n",
              "  </tbody>\n",
              "</table>\n",
              "</div>\n",
              "      <button class=\"colab-df-convert\" onclick=\"convertToInteractive('df-fd80597a-28c3-4dd5-8978-6fb10c5cdea1')\"\n",
              "              title=\"Convert this dataframe to an interactive table.\"\n",
              "              style=\"display:none;\">\n",
              "        \n",
              "  <svg xmlns=\"http://www.w3.org/2000/svg\" height=\"24px\"viewBox=\"0 0 24 24\"\n",
              "       width=\"24px\">\n",
              "    <path d=\"M0 0h24v24H0V0z\" fill=\"none\"/>\n",
              "    <path d=\"M18.56 5.44l.94 2.06.94-2.06 2.06-.94-2.06-.94-.94-2.06-.94 2.06-2.06.94zm-11 1L8.5 8.5l.94-2.06 2.06-.94-2.06-.94L8.5 2.5l-.94 2.06-2.06.94zm10 10l.94 2.06.94-2.06 2.06-.94-2.06-.94-.94-2.06-.94 2.06-2.06.94z\"/><path d=\"M17.41 7.96l-1.37-1.37c-.4-.4-.92-.59-1.43-.59-.52 0-1.04.2-1.43.59L10.3 9.45l-7.72 7.72c-.78.78-.78 2.05 0 2.83L4 21.41c.39.39.9.59 1.41.59.51 0 1.02-.2 1.41-.59l7.78-7.78 2.81-2.81c.8-.78.8-2.07 0-2.86zM5.41 20L4 18.59l7.72-7.72 1.47 1.35L5.41 20z\"/>\n",
              "  </svg>\n",
              "      </button>\n",
              "      \n",
              "  <style>\n",
              "    .colab-df-container {\n",
              "      display:flex;\n",
              "      flex-wrap:wrap;\n",
              "      gap: 12px;\n",
              "    }\n",
              "\n",
              "    .colab-df-convert {\n",
              "      background-color: #E8F0FE;\n",
              "      border: none;\n",
              "      border-radius: 50%;\n",
              "      cursor: pointer;\n",
              "      display: none;\n",
              "      fill: #1967D2;\n",
              "      height: 32px;\n",
              "      padding: 0 0 0 0;\n",
              "      width: 32px;\n",
              "    }\n",
              "\n",
              "    .colab-df-convert:hover {\n",
              "      background-color: #E2EBFA;\n",
              "      box-shadow: 0px 1px 2px rgba(60, 64, 67, 0.3), 0px 1px 3px 1px rgba(60, 64, 67, 0.15);\n",
              "      fill: #174EA6;\n",
              "    }\n",
              "\n",
              "    [theme=dark] .colab-df-convert {\n",
              "      background-color: #3B4455;\n",
              "      fill: #D2E3FC;\n",
              "    }\n",
              "\n",
              "    [theme=dark] .colab-df-convert:hover {\n",
              "      background-color: #434B5C;\n",
              "      box-shadow: 0px 1px 3px 1px rgba(0, 0, 0, 0.15);\n",
              "      filter: drop-shadow(0px 1px 2px rgba(0, 0, 0, 0.3));\n",
              "      fill: #FFFFFF;\n",
              "    }\n",
              "  </style>\n",
              "\n",
              "      <script>\n",
              "        const buttonEl =\n",
              "          document.querySelector('#df-fd80597a-28c3-4dd5-8978-6fb10c5cdea1 button.colab-df-convert');\n",
              "        buttonEl.style.display =\n",
              "          google.colab.kernel.accessAllowed ? 'block' : 'none';\n",
              "\n",
              "        async function convertToInteractive(key) {\n",
              "          const element = document.querySelector('#df-fd80597a-28c3-4dd5-8978-6fb10c5cdea1');\n",
              "          const dataTable =\n",
              "            await google.colab.kernel.invokeFunction('convertToInteractive',\n",
              "                                                     [key], {});\n",
              "          if (!dataTable) return;\n",
              "\n",
              "          const docLinkHtml = 'Like what you see? Visit the ' +\n",
              "            '<a target=\"_blank\" href=https://colab.research.google.com/notebooks/data_table.ipynb>data table notebook</a>'\n",
              "            + ' to learn more about interactive tables.';\n",
              "          element.innerHTML = '';\n",
              "          dataTable['output_type'] = 'display_data';\n",
              "          await google.colab.output.renderOutput(dataTable, element);\n",
              "          const docLink = document.createElement('div');\n",
              "          docLink.innerHTML = docLinkHtml;\n",
              "          element.appendChild(docLink);\n",
              "        }\n",
              "      </script>\n",
              "    </div>\n",
              "  </div>\n",
              "  "
            ],
            "text/plain": [
              "   aardvark  1  0  0.1  1.1  0.2  0.3  ...  0.4  0.5  4  0.6  0.7  1.6  1.7\n",
              "0  antelope  1  0    0    1    0    0  ...    0    0  4    1    0    1    1\n",
              "1      bass  0  0    1    0    0    1  ...    0    1  0    1    0    0    4\n",
              "2      bear  1  0    0    1    0    0  ...    0    0  4    0    0    1    1\n",
              "3      boar  1  0    0    1    0    0  ...    0    0  4    1    0    1    1\n",
              "4   buffalo  1  0    0    1    0    0  ...    0    0  4    1    0    1    1\n",
              "\n",
              "[5 rows x 18 columns]"
            ]
          },
          "metadata": {},
          "execution_count": 4
        }
      ]
    },
    {
      "cell_type": "code",
      "metadata": {
        "id": "_cbOEX_IEhtc"
      },
      "source": [
        "data.columns=zoo_name"
      ],
      "execution_count": 5,
      "outputs": []
    },
    {
      "cell_type": "code",
      "metadata": {
        "id": "7BOIyK0NHFGQ",
        "colab": {
          "base_uri": "https://localhost:8080/",
          "height": 288
        },
        "outputId": "1beffeee-1f88-466c-d56a-d93c07834ada"
      },
      "source": [
        "data.head()"
      ],
      "execution_count": 6,
      "outputs": [
        {
          "output_type": "execute_result",
          "data": {
            "text/html": [
              "\n",
              "  <div id=\"df-d12c0f09-5217-4c0b-abf5-a399e926ed18\">\n",
              "    <div class=\"colab-df-container\">\n",
              "      <div>\n",
              "<style scoped>\n",
              "    .dataframe tbody tr th:only-of-type {\n",
              "        vertical-align: middle;\n",
              "    }\n",
              "\n",
              "    .dataframe tbody tr th {\n",
              "        vertical-align: top;\n",
              "    }\n",
              "\n",
              "    .dataframe thead th {\n",
              "        text-align: right;\n",
              "    }\n",
              "</style>\n",
              "<table border=\"1\" class=\"dataframe\">\n",
              "  <thead>\n",
              "    <tr style=\"text-align: right;\">\n",
              "      <th></th>\n",
              "      <th>animal name</th>\n",
              "      <th>hair</th>\n",
              "      <th>feathers</th>\n",
              "      <th>eggs</th>\n",
              "      <th>milk</th>\n",
              "      <th>airborne</th>\n",
              "      <th>aquatic</th>\n",
              "      <th>predator</th>\n",
              "      <th>toothed</th>\n",
              "      <th>backbone</th>\n",
              "      <th>breathes</th>\n",
              "      <th>venomous</th>\n",
              "      <th>fins</th>\n",
              "      <th>legs</th>\n",
              "      <th>tail</th>\n",
              "      <th>domestic</th>\n",
              "      <th>cat-size</th>\n",
              "      <th>type</th>\n",
              "    </tr>\n",
              "  </thead>\n",
              "  <tbody>\n",
              "    <tr>\n",
              "      <th>0</th>\n",
              "      <td>antelope</td>\n",
              "      <td>1</td>\n",
              "      <td>0</td>\n",
              "      <td>0</td>\n",
              "      <td>1</td>\n",
              "      <td>0</td>\n",
              "      <td>0</td>\n",
              "      <td>0</td>\n",
              "      <td>1</td>\n",
              "      <td>1</td>\n",
              "      <td>1</td>\n",
              "      <td>0</td>\n",
              "      <td>0</td>\n",
              "      <td>4</td>\n",
              "      <td>1</td>\n",
              "      <td>0</td>\n",
              "      <td>1</td>\n",
              "      <td>1</td>\n",
              "    </tr>\n",
              "    <tr>\n",
              "      <th>1</th>\n",
              "      <td>bass</td>\n",
              "      <td>0</td>\n",
              "      <td>0</td>\n",
              "      <td>1</td>\n",
              "      <td>0</td>\n",
              "      <td>0</td>\n",
              "      <td>1</td>\n",
              "      <td>1</td>\n",
              "      <td>1</td>\n",
              "      <td>1</td>\n",
              "      <td>0</td>\n",
              "      <td>0</td>\n",
              "      <td>1</td>\n",
              "      <td>0</td>\n",
              "      <td>1</td>\n",
              "      <td>0</td>\n",
              "      <td>0</td>\n",
              "      <td>4</td>\n",
              "    </tr>\n",
              "    <tr>\n",
              "      <th>2</th>\n",
              "      <td>bear</td>\n",
              "      <td>1</td>\n",
              "      <td>0</td>\n",
              "      <td>0</td>\n",
              "      <td>1</td>\n",
              "      <td>0</td>\n",
              "      <td>0</td>\n",
              "      <td>1</td>\n",
              "      <td>1</td>\n",
              "      <td>1</td>\n",
              "      <td>1</td>\n",
              "      <td>0</td>\n",
              "      <td>0</td>\n",
              "      <td>4</td>\n",
              "      <td>0</td>\n",
              "      <td>0</td>\n",
              "      <td>1</td>\n",
              "      <td>1</td>\n",
              "    </tr>\n",
              "    <tr>\n",
              "      <th>3</th>\n",
              "      <td>boar</td>\n",
              "      <td>1</td>\n",
              "      <td>0</td>\n",
              "      <td>0</td>\n",
              "      <td>1</td>\n",
              "      <td>0</td>\n",
              "      <td>0</td>\n",
              "      <td>1</td>\n",
              "      <td>1</td>\n",
              "      <td>1</td>\n",
              "      <td>1</td>\n",
              "      <td>0</td>\n",
              "      <td>0</td>\n",
              "      <td>4</td>\n",
              "      <td>1</td>\n",
              "      <td>0</td>\n",
              "      <td>1</td>\n",
              "      <td>1</td>\n",
              "    </tr>\n",
              "    <tr>\n",
              "      <th>4</th>\n",
              "      <td>buffalo</td>\n",
              "      <td>1</td>\n",
              "      <td>0</td>\n",
              "      <td>0</td>\n",
              "      <td>1</td>\n",
              "      <td>0</td>\n",
              "      <td>0</td>\n",
              "      <td>0</td>\n",
              "      <td>1</td>\n",
              "      <td>1</td>\n",
              "      <td>1</td>\n",
              "      <td>0</td>\n",
              "      <td>0</td>\n",
              "      <td>4</td>\n",
              "      <td>1</td>\n",
              "      <td>0</td>\n",
              "      <td>1</td>\n",
              "      <td>1</td>\n",
              "    </tr>\n",
              "  </tbody>\n",
              "</table>\n",
              "</div>\n",
              "      <button class=\"colab-df-convert\" onclick=\"convertToInteractive('df-d12c0f09-5217-4c0b-abf5-a399e926ed18')\"\n",
              "              title=\"Convert this dataframe to an interactive table.\"\n",
              "              style=\"display:none;\">\n",
              "        \n",
              "  <svg xmlns=\"http://www.w3.org/2000/svg\" height=\"24px\"viewBox=\"0 0 24 24\"\n",
              "       width=\"24px\">\n",
              "    <path d=\"M0 0h24v24H0V0z\" fill=\"none\"/>\n",
              "    <path d=\"M18.56 5.44l.94 2.06.94-2.06 2.06-.94-2.06-.94-.94-2.06-.94 2.06-2.06.94zm-11 1L8.5 8.5l.94-2.06 2.06-.94-2.06-.94L8.5 2.5l-.94 2.06-2.06.94zm10 10l.94 2.06.94-2.06 2.06-.94-2.06-.94-.94-2.06-.94 2.06-2.06.94z\"/><path d=\"M17.41 7.96l-1.37-1.37c-.4-.4-.92-.59-1.43-.59-.52 0-1.04.2-1.43.59L10.3 9.45l-7.72 7.72c-.78.78-.78 2.05 0 2.83L4 21.41c.39.39.9.59 1.41.59.51 0 1.02-.2 1.41-.59l7.78-7.78 2.81-2.81c.8-.78.8-2.07 0-2.86zM5.41 20L4 18.59l7.72-7.72 1.47 1.35L5.41 20z\"/>\n",
              "  </svg>\n",
              "      </button>\n",
              "      \n",
              "  <style>\n",
              "    .colab-df-container {\n",
              "      display:flex;\n",
              "      flex-wrap:wrap;\n",
              "      gap: 12px;\n",
              "    }\n",
              "\n",
              "    .colab-df-convert {\n",
              "      background-color: #E8F0FE;\n",
              "      border: none;\n",
              "      border-radius: 50%;\n",
              "      cursor: pointer;\n",
              "      display: none;\n",
              "      fill: #1967D2;\n",
              "      height: 32px;\n",
              "      padding: 0 0 0 0;\n",
              "      width: 32px;\n",
              "    }\n",
              "\n",
              "    .colab-df-convert:hover {\n",
              "      background-color: #E2EBFA;\n",
              "      box-shadow: 0px 1px 2px rgba(60, 64, 67, 0.3), 0px 1px 3px 1px rgba(60, 64, 67, 0.15);\n",
              "      fill: #174EA6;\n",
              "    }\n",
              "\n",
              "    [theme=dark] .colab-df-convert {\n",
              "      background-color: #3B4455;\n",
              "      fill: #D2E3FC;\n",
              "    }\n",
              "\n",
              "    [theme=dark] .colab-df-convert:hover {\n",
              "      background-color: #434B5C;\n",
              "      box-shadow: 0px 1px 3px 1px rgba(0, 0, 0, 0.15);\n",
              "      filter: drop-shadow(0px 1px 2px rgba(0, 0, 0, 0.3));\n",
              "      fill: #FFFFFF;\n",
              "    }\n",
              "  </style>\n",
              "\n",
              "      <script>\n",
              "        const buttonEl =\n",
              "          document.querySelector('#df-d12c0f09-5217-4c0b-abf5-a399e926ed18 button.colab-df-convert');\n",
              "        buttonEl.style.display =\n",
              "          google.colab.kernel.accessAllowed ? 'block' : 'none';\n",
              "\n",
              "        async function convertToInteractive(key) {\n",
              "          const element = document.querySelector('#df-d12c0f09-5217-4c0b-abf5-a399e926ed18');\n",
              "          const dataTable =\n",
              "            await google.colab.kernel.invokeFunction('convertToInteractive',\n",
              "                                                     [key], {});\n",
              "          if (!dataTable) return;\n",
              "\n",
              "          const docLinkHtml = 'Like what you see? Visit the ' +\n",
              "            '<a target=\"_blank\" href=https://colab.research.google.com/notebooks/data_table.ipynb>data table notebook</a>'\n",
              "            + ' to learn more about interactive tables.';\n",
              "          element.innerHTML = '';\n",
              "          dataTable['output_type'] = 'display_data';\n",
              "          await google.colab.output.renderOutput(dataTable, element);\n",
              "          const docLink = document.createElement('div');\n",
              "          docLink.innerHTML = docLinkHtml;\n",
              "          element.appendChild(docLink);\n",
              "        }\n",
              "      </script>\n",
              "    </div>\n",
              "  </div>\n",
              "  "
            ],
            "text/plain": [
              "  animal name  hair  feathers  eggs  ...  tail  domestic   cat-size  type\n",
              "0    antelope     1         0     0  ...     1         0          1     1\n",
              "1        bass     0         0     1  ...     1         0          0     4\n",
              "2        bear     1         0     0  ...     0         0          1     1\n",
              "3        boar     1         0     0  ...     1         0          1     1\n",
              "4     buffalo     1         0     0  ...     1         0          1     1\n",
              "\n",
              "[5 rows x 18 columns]"
            ]
          },
          "metadata": {},
          "execution_count": 6
        }
      ]
    },
    {
      "cell_type": "markdown",
      "metadata": {
        "id": "0UAQUo98EqcV"
      },
      "source": [
        "Gráficas básicas  "
      ]
    },
    {
      "cell_type": "code",
      "metadata": {
        "id": "ytroyrcxJ1rK"
      },
      "source": [
        "#librerias de graficación más empleadas \n",
        "import plotly as plt \n",
        "import seaborn as sns"
      ],
      "execution_count": 7,
      "outputs": []
    },
    {
      "cell_type": "code",
      "metadata": {
        "id": "x1abwBubJ8M3"
      },
      "source": [
        "import altair as alt # Una buena libreía muy visual y simple para hacer graficos en python"
      ],
      "execution_count": 12,
      "outputs": []
    },
    {
      "cell_type": "code",
      "metadata": {
        "id": "jVKItSyRKJym",
        "colab": {
          "base_uri": "https://localhost:8080/",
          "height": 311
        },
        "outputId": "d7ec3537-1e01-47ef-94b4-0cc9db0c9af3"
      },
      "source": [
        "data.plot()"
      ],
      "execution_count": 9,
      "outputs": [
        {
          "output_type": "execute_result",
          "data": {
            "text/plain": [
              "<matplotlib.axes._subplots.AxesSubplot at 0x7f0939c4ef50>"
            ]
          },
          "metadata": {},
          "execution_count": 9
        },
        {
          "output_type": "display_data",
          "data": {
            "image/png": "[encoded data removed]",
            "text/plain": [
              "<Figure size 432x288 with 1 Axes>"
            ]
          },
          "metadata": {
            "needs_background": "light"
          }
        }
      ]
    },
    {
      "cell_type": "code",
      "metadata": {
        "id": "gYUbWAdyKPYx",
        "colab": {
          "base_uri": "https://localhost:8080/"
        },
        "outputId": "2f390c78-47f6-4314-8c5c-c76de76a1d55"
      },
      "source": [
        "data.info()"
      ],
      "execution_count": 10,
      "outputs": [
        {
          "output_type": "stream",
          "name": "stdout",
          "text": [
            "<class 'pandas.core.frame.DataFrame'>\n",
            "RangeIndex: 100 entries, 0 to 99\n",
            "Data columns (total 18 columns):\n",
            " #   Column       Non-Null Count  Dtype \n",
            "---  ------       --------------  ----- \n",
            " 0   animal name  100 non-null    object\n",
            " 1   hair         100 non-null    int64 \n",
            " 2   feathers     100 non-null    int64 \n",
            " 3   eggs         100 non-null    int64 \n",
            " 4   milk         100 non-null    int64 \n",
            " 5   airborne     100 non-null    int64 \n",
            " 6   aquatic      100 non-null    int64 \n",
            " 7   predator     100 non-null    int64 \n",
            " 8   toothed      100 non-null    int64 \n",
            " 9   backbone     100 non-null    int64 \n",
            " 10  breathes     100 non-null    int64 \n",
            " 11  venomous     100 non-null    int64 \n",
            " 12  fins         100 non-null    int64 \n",
            " 13  legs         100 non-null    int64 \n",
            " 14  tail         100 non-null    int64 \n",
            " 15  domestic     100 non-null    int64 \n",
            " 16   cat-size    100 non-null    int64 \n",
            " 17  type         100 non-null    int64 \n",
            "dtypes: int64(17), object(1)\n",
            "memory usage: 14.2+ KB\n"
          ]
        }
      ]
    },
    {
      "cell_type": "code",
      "metadata": {
        "id": "ggxuLT1LKf9b",
        "colab": {
          "base_uri": "https://localhost:8080/",
          "height": 425
        },
        "outputId": "ded75aec-3d80-4ed9-c578-a0dc556683af"
      },
      "source": [
        "alt.Chart(data).mark_line().encode(\n",
        "    x='animal name',\n",
        "    y='legs'\n",
        ")"
      ],
      "execution_count": 13,
      "outputs": [
        {
          "output_type": "execute_result",
          "data": {
            "text/plain": [
              "alt.Chart(...)"
            ],
            "text/html": [
              "\n",
              "<div id=\"altair-viz-8e22d57d42694208ad1f848d9f925103\"></div>\n",
              "<script type=\"text/javascript\">\n",
              "  var VEGA_DEBUG = (typeof VEGA_DEBUG == \"undefined\") ? {} : VEGA_DEBUG;\n",
              "  (function(spec, embedOpt){\n",
              "    let outputDiv = document.currentScript.previousElementSibling;\n",
              "    if (outputDiv.id !== \"altair-viz-8e22d57d42694208ad1f848d9f925103\") {\n",
              "      outputDiv = document.getElementById(\"altair-viz-8e22d57d42694208ad1f848d9f925103\");\n",
              "    }\n",
              "    const paths = {\n",
              "      \"vega\": \"https://cdn.jsdelivr.net/npm//vega@5?noext\",\n",
              "      \"vega-lib\": \"https://cdn.jsdelivr.net/npm//vega-lib?noext\",\n",
              "      \"vega-lite\": \"https://cdn.jsdelivr.net/npm//vega-lite@4.17.0?noext\",\n",
              "      \"vega-embed\": \"https://cdn.jsdelivr.net/npm//vega-embed@6?noext\",\n",
              "    };\n",
              "\n",
              "    function maybeLoadScript(lib, version) {\n",
              "      var key = `${lib.replace(\"-\", \"\")}_version`;\n",
              "      return (VEGA_DEBUG[key] == version) ?\n",
              "        Promise.resolve(paths[lib]) :\n",
              "        new Promise(function(resolve, reject) {\n",
              "          var s = document.createElement('script');\n",
              "          document.getElementsByTagName(\"head\")[0].appendChild(s);\n",
              "          s.async = true;\n",
              "          s.onload = () => {\n",
              "            VEGA_DEBUG[key] = version;\n",
              "            return resolve(paths[lib]);\n",
              "          };\n",
              "          s.onerror = () => reject(`Error loading script: ${paths[lib]}`);\n",
              "          s.src = paths[lib];\n",
              "        });\n",
              "    }\n",
              "\n",
              "    function showError(err) {\n",
              "      outputDiv.innerHTML = `<div class=\"error\" style=\"color:red;\">${err}</div>`;\n",
              "      throw err;\n",
              "    }\n",
              "\n",
              "    function displayChart(vegaEmbed) {\n",
              "      vegaEmbed(outputDiv, spec, embedOpt)\n",
              "        .catch(err => showError(`Javascript Error: ${err.message}<br>This usually means there's a typo in your chart specification. See the javascript console for the full traceback.`));\n",
              "    }\n",
              "\n",
              "    if(typeof define === \"function\" && define.amd) {\n",
              "      requirejs.config({paths});\n",
              "      require([\"vega-embed\"], displayChart, err => showError(`Error loading script: ${err.message}`));\n",
              "    } else {\n",
              "      maybeLoadScript(\"vega\", \"5\")\n",
              "        .then(() => maybeLoadScript(\"vega-lite\", \"4.17.0\"))\n",
              "        .then(() => maybeLoadScript(\"vega-embed\", \"6\"))\n",
              "        .catch(showError)\n",
              "        .then(() => displayChart(vegaEmbed));\n",
              "    }\n",
              "  })({\"config\": {\"view\": {\"continuousWidth\": 400, \"continuousHeight\": 300}}, \"data\": {\"name\": \"data-e3d594e206aeb1e7e4985628e88d3eb2\"}, \"mark\": \"line\", \"encoding\": {\"x\": {\"field\": \"animal name\", \"type\": \"nominal\"}, \"y\": {\"field\": \"legs\", \"type\": \"quantitative\"}}, \"$schema\": \"https://vega.github.io/schema/vega-lite/v4.17.0.json\", \"datasets\": {\"data-e3d594e206aeb1e7e4985628e88d3eb2\": [{\"animal name\": \"antelope\", \"hair\": 1, \"feathers\": 0, \"eggs\": 0, \"milk\": 1, \"airborne\": 0, \"aquatic\": 0, \"predator\": 0, \"toothed\": 1, \"backbone\": 1, \"breathes\": 1, \"venomous\": 0, \"fins\": 0, \"legs\": 4, \"tail\": 1, \"domestic\": 0, \" cat-size\": 1, \"type\": 1}, {\"animal name\": \"bass\", \"hair\": 0, \"feathers\": 0, \"eggs\": 1, \"milk\": 0, \"airborne\": 0, \"aquatic\": 1, \"predator\": 1, \"toothed\": 1, \"backbone\": 1, \"breathes\": 0, \"venomous\": 0, \"fins\": 1, \"legs\": 0, \"tail\": 1, \"domestic\": 0, \" cat-size\": 0, \"type\": 4}, {\"animal name\": \"bear\", \"hair\": 1, \"feathers\": 0, \"eggs\": 0, \"milk\": 1, \"airborne\": 0, \"aquatic\": 0, \"predator\": 1, \"toothed\": 1, \"backbone\": 1, \"breathes\": 1, \"venomous\": 0, \"fins\": 0, \"legs\": 4, \"tail\": 0, \"domestic\": 0, \" cat-size\": 1, \"type\": 1}, {\"animal name\": \"boar\", \"hair\": 1, \"feathers\": 0, \"eggs\": 0, \"milk\": 1, \"airborne\": 0, \"aquatic\": 0, \"predator\": 1, \"toothed\": 1, \"backbone\": 1, \"breathes\": 1, \"venomous\": 0, \"fins\": 0, \"legs\": 4, \"tail\": 1, \"domestic\": 0, \" cat-size\": 1, \"type\": 1}, {\"animal name\": \"buffalo\", \"hair\": 1, \"feathers\": 0, \"eggs\": 0, \"milk\": 1, \"airborne\": 0, \"aquatic\": 0, \"predator\": 0, \"toothed\": 1, \"backbone\": 1, \"breathes\": 1, \"venomous\": 0, \"fins\": 0, \"legs\": 4, \"tail\": 1, \"domestic\": 0, \" cat-size\": 1, \"type\": 1}, {\"animal name\": \"calf\", \"hair\": 1, \"feathers\": 0, \"eggs\": 0, \"milk\": 1, \"airborne\": 0, \"aquatic\": 0, \"predator\": 0, \"toothed\": 1, \"backbone\": 1, \"breathes\": 1, \"venomous\": 0, \"fins\": 0, \"legs\": 4, \"tail\": 1, \"domestic\": 1, \" cat-size\": 1, \"type\": 1}, {\"animal name\": \"carp\", \"hair\": 0, \"feathers\": 0, \"eggs\": 1, \"milk\": 0, \"airborne\": 0, \"aquatic\": 1, \"predator\": 0, \"toothed\": 1, \"backbone\": 1, \"breathes\": 0, \"venomous\": 0, \"fins\": 1, \"legs\": 0, \"tail\": 1, \"domestic\": 1, \" cat-size\": 0, \"type\": 4}, {\"animal name\": \"catfish\", \"hair\": 0, \"feathers\": 0, \"eggs\": 1, \"milk\": 0, \"airborne\": 0, \"aquatic\": 1, \"predator\": 1, \"toothed\": 1, \"backbone\": 1, \"breathes\": 0, \"venomous\": 0, \"fins\": 1, \"legs\": 0, \"tail\": 1, \"domestic\": 0, \" cat-size\": 0, \"type\": 4}, {\"animal name\": \"cavy\", \"hair\": 1, \"feathers\": 0, \"eggs\": 0, \"milk\": 1, \"airborne\": 0, \"aquatic\": 0, \"predator\": 0, \"toothed\": 1, \"backbone\": 1, \"breathes\": 1, \"venomous\": 0, \"fins\": 0, \"legs\": 4, \"tail\": 0, \"domestic\": 1, \" cat-size\": 0, \"type\": 1}, {\"animal name\": \"cheetah\", \"hair\": 1, \"feathers\": 0, \"eggs\": 0, \"milk\": 1, \"airborne\": 0, \"aquatic\": 0, \"predator\": 1, \"toothed\": 1, \"backbone\": 1, \"breathes\": 1, \"venomous\": 0, \"fins\": 0, \"legs\": 4, \"tail\": 1, \"domestic\": 0, \" cat-size\": 1, \"type\": 1}, {\"animal name\": \"chicken\", \"hair\": 0, \"feathers\": 1, \"eggs\": 1, \"milk\": 0, \"airborne\": 1, \"aquatic\": 0, \"predator\": 0, \"toothed\": 0, \"backbone\": 1, \"breathes\": 1, \"venomous\": 0, \"fins\": 0, \"legs\": 2, \"tail\": 1, \"domestic\": 1, \" cat-size\": 0, \"type\": 2}, {\"animal name\": \"chub\", \"hair\": 0, \"feathers\": 0, \"eggs\": 1, \"milk\": 0, \"airborne\": 0, \"aquatic\": 1, \"predator\": 1, \"toothed\": 1, \"backbone\": 1, \"breathes\": 0, \"venomous\": 0, \"fins\": 1, \"legs\": 0, \"tail\": 1, \"domestic\": 0, \" cat-size\": 0, \"type\": 4}, {\"animal name\": \"clam\", \"hair\": 0, \"feathers\": 0, \"eggs\": 1, \"milk\": 0, \"airborne\": 0, \"aquatic\": 0, \"predator\": 1, \"toothed\": 0, \"backbone\": 0, \"breathes\": 0, \"venomous\": 0, \"fins\": 0, \"legs\": 0, \"tail\": 0, \"domestic\": 0, \" cat-size\": 0, \"type\": 7}, {\"animal name\": \"crab\", \"hair\": 0, \"feathers\": 0, \"eggs\": 1, \"milk\": 0, \"airborne\": 0, \"aquatic\": 1, \"predator\": 1, \"toothed\": 0, \"backbone\": 0, \"breathes\": 0, \"venomous\": 0, \"fins\": 0, \"legs\": 4, \"tail\": 0, \"domestic\": 0, \" cat-size\": 0, \"type\": 7}, {\"animal name\": \"crayfish\", \"hair\": 0, \"feathers\": 0, \"eggs\": 1, \"milk\": 0, \"airborne\": 0, \"aquatic\": 1, \"predator\": 1, \"toothed\": 0, \"backbone\": 0, \"breathes\": 0, \"venomous\": 0, \"fins\": 0, \"legs\": 6, \"tail\": 0, \"domestic\": 0, \" cat-size\": 0, \"type\": 7}, {\"animal name\": \"crow\", \"hair\": 0, \"feathers\": 1, \"eggs\": 1, \"milk\": 0, \"airborne\": 1, \"aquatic\": 0, \"predator\": 1, \"toothed\": 0, \"backbone\": 1, \"breathes\": 1, \"venomous\": 0, \"fins\": 0, \"legs\": 2, \"tail\": 1, \"domestic\": 0, \" cat-size\": 0, \"type\": 2}, {\"animal name\": \"deer\", \"hair\": 1, \"feathers\": 0, \"eggs\": 0, \"milk\": 1, \"airborne\": 0, \"aquatic\": 0, \"predator\": 0, \"toothed\": 1, \"backbone\": 1, \"breathes\": 1, \"venomous\": 0, \"fins\": 0, \"legs\": 4, \"tail\": 1, \"domestic\": 0, \" cat-size\": 1, \"type\": 1}, {\"animal name\": \"dogfish\", \"hair\": 0, \"feathers\": 0, \"eggs\": 1, \"milk\": 0, \"airborne\": 0, \"aquatic\": 1, \"predator\": 1, \"toothed\": 1, \"backbone\": 1, \"breathes\": 0, \"venomous\": 0, \"fins\": 1, \"legs\": 0, \"tail\": 1, \"domestic\": 0, \" cat-size\": 1, \"type\": 4}, {\"animal name\": \"dolphin\", \"hair\": 0, \"feathers\": 0, \"eggs\": 0, \"milk\": 1, \"airborne\": 0, \"aquatic\": 1, \"predator\": 1, \"toothed\": 1, \"backbone\": 1, \"breathes\": 1, \"venomous\": 0, \"fins\": 1, \"legs\": 0, \"tail\": 1, \"domestic\": 0, \" cat-size\": 1, \"type\": 1}, {\"animal name\": \"dove\", \"hair\": 0, \"feathers\": 1, \"eggs\": 1, \"milk\": 0, \"airborne\": 1, \"aquatic\": 0, \"predator\": 0, \"toothed\": 0, \"backbone\": 1, \"breathes\": 1, \"venomous\": 0, \"fins\": 0, \"legs\": 2, \"tail\": 1, \"domestic\": 1, \" cat-size\": 0, \"type\": 2}, {\"animal name\": \"duck\", \"hair\": 0, \"feathers\": 1, \"eggs\": 1, \"milk\": 0, \"airborne\": 1, \"aquatic\": 1, \"predator\": 0, \"toothed\": 0, \"backbone\": 1, \"breathes\": 1, \"venomous\": 0, \"fins\": 0, \"legs\": 2, \"tail\": 1, \"domestic\": 0, \" cat-size\": 0, \"type\": 2}, {\"animal name\": \"elephant\", \"hair\": 1, \"feathers\": 0, \"eggs\": 0, \"milk\": 1, \"airborne\": 0, \"aquatic\": 0, \"predator\": 0, \"toothed\": 1, \"backbone\": 1, \"breathes\": 1, \"venomous\": 0, \"fins\": 0, \"legs\": 4, \"tail\": 1, \"domestic\": 0, \" cat-size\": 1, \"type\": 1}, {\"animal name\": \"flamingo\", \"hair\": 0, \"feathers\": 1, \"eggs\": 1, \"milk\": 0, \"airborne\": 1, \"aquatic\": 0, \"predator\": 0, \"toothed\": 0, \"backbone\": 1, \"breathes\": 1, \"venomous\": 0, \"fins\": 0, \"legs\": 2, \"tail\": 1, \"domestic\": 0, \" cat-size\": 1, \"type\": 2}, {\"animal name\": \"flea\", \"hair\": 0, \"feathers\": 0, \"eggs\": 1, \"milk\": 0, \"airborne\": 0, \"aquatic\": 0, \"predator\": 0, \"toothed\": 0, \"backbone\": 0, \"breathes\": 1, \"venomous\": 0, \"fins\": 0, \"legs\": 6, \"tail\": 0, \"domestic\": 0, \" cat-size\": 0, \"type\": 6}, {\"animal name\": \"frog\", \"hair\": 0, \"feathers\": 0, \"eggs\": 1, \"milk\": 0, \"airborne\": 0, \"aquatic\": 1, \"predator\": 1, \"toothed\": 1, \"backbone\": 1, \"breathes\": 1, \"venomous\": 0, \"fins\": 0, \"legs\": 4, \"tail\": 0, \"domestic\": 0, \" cat-size\": 0, \"type\": 5}, {\"animal name\": \"frog\", \"hair\": 0, \"feathers\": 0, \"eggs\": 1, \"milk\": 0, \"airborne\": 0, \"aquatic\": 1, \"predator\": 1, \"toothed\": 1, \"backbone\": 1, \"breathes\": 1, \"venomous\": 1, \"fins\": 0, \"legs\": 4, \"tail\": 0, \"domestic\": 0, \" cat-size\": 0, \"type\": 5}, {\"animal name\": \"fruitbat\", \"hair\": 1, \"feathers\": 0, \"eggs\": 0, \"milk\": 1, \"airborne\": 1, \"aquatic\": 0, \"predator\": 0, \"toothed\": 1, \"backbone\": 1, \"breathes\": 1, \"venomous\": 0, \"fins\": 0, \"legs\": 2, \"tail\": 1, \"domestic\": 0, \" cat-size\": 0, \"type\": 1}, {\"animal name\": \"giraffe\", \"hair\": 1, \"feathers\": 0, \"eggs\": 0, \"milk\": 1, \"airborne\": 0, \"aquatic\": 0, \"predator\": 0, \"toothed\": 1, \"backbone\": 1, \"breathes\": 1, \"venomous\": 0, \"fins\": 0, \"legs\": 4, \"tail\": 1, \"domestic\": 0, \" cat-size\": 1, \"type\": 1}, {\"animal name\": \"girl\", \"hair\": 1, \"feathers\": 0, \"eggs\": 0, \"milk\": 1, \"airborne\": 0, \"aquatic\": 0, \"predator\": 1, \"toothed\": 1, \"backbone\": 1, \"breathes\": 1, \"venomous\": 0, \"fins\": 0, \"legs\": 2, \"tail\": 0, \"domestic\": 1, \" cat-size\": 1, \"type\": 1}, {\"animal name\": \"gnat\", \"hair\": 0, \"feathers\": 0, \"eggs\": 1, \"milk\": 0, \"airborne\": 1, \"aquatic\": 0, \"predator\": 0, \"toothed\": 0, \"backbone\": 0, \"breathes\": 1, \"venomous\": 0, \"fins\": 0, \"legs\": 6, \"tail\": 0, \"domestic\": 0, \" cat-size\": 0, \"type\": 6}, {\"animal name\": \"goat\", \"hair\": 1, \"feathers\": 0, \"eggs\": 0, \"milk\": 1, \"airborne\": 0, \"aquatic\": 0, \"predator\": 0, \"toothed\": 1, \"backbone\": 1, \"breathes\": 1, \"venomous\": 0, \"fins\": 0, \"legs\": 4, \"tail\": 1, \"domestic\": 1, \" cat-size\": 1, \"type\": 1}, {\"animal name\": \"gorilla\", \"hair\": 1, \"feathers\": 0, \"eggs\": 0, \"milk\": 1, \"airborne\": 0, \"aquatic\": 0, \"predator\": 0, \"toothed\": 1, \"backbone\": 1, \"breathes\": 1, \"venomous\": 0, \"fins\": 0, \"legs\": 2, \"tail\": 0, \"domestic\": 0, \" cat-size\": 1, \"type\": 1}, {\"animal name\": \"gull\", \"hair\": 0, \"feathers\": 1, \"eggs\": 1, \"milk\": 0, \"airborne\": 1, \"aquatic\": 1, \"predator\": 1, \"toothed\": 0, \"backbone\": 1, \"breathes\": 1, \"venomous\": 0, \"fins\": 0, \"legs\": 2, \"tail\": 1, \"domestic\": 0, \" cat-size\": 0, \"type\": 2}, {\"animal name\": \"haddock\", \"hair\": 0, \"feathers\": 0, \"eggs\": 1, \"milk\": 0, \"airborne\": 0, \"aquatic\": 1, \"predator\": 0, \"toothed\": 1, \"backbone\": 1, \"breathes\": 0, \"venomous\": 0, \"fins\": 1, \"legs\": 0, \"tail\": 1, \"domestic\": 0, \" cat-size\": 0, \"type\": 4}, {\"animal name\": \"hamster\", \"hair\": 1, \"feathers\": 0, \"eggs\": 0, \"milk\": 1, \"airborne\": 0, \"aquatic\": 0, \"predator\": 0, \"toothed\": 1, \"backbone\": 1, \"breathes\": 1, \"venomous\": 0, \"fins\": 0, \"legs\": 4, \"tail\": 1, \"domestic\": 1, \" cat-size\": 0, \"type\": 1}, {\"animal name\": \"hare\", \"hair\": 1, \"feathers\": 0, \"eggs\": 0, \"milk\": 1, \"airborne\": 0, \"aquatic\": 0, \"predator\": 0, \"toothed\": 1, \"backbone\": 1, \"breathes\": 1, \"venomous\": 0, \"fins\": 0, \"legs\": 4, \"tail\": 1, \"domestic\": 0, \" cat-size\": 0, \"type\": 1}, {\"animal name\": \"hawk\", \"hair\": 0, \"feathers\": 1, \"eggs\": 1, \"milk\": 0, \"airborne\": 1, \"aquatic\": 0, \"predator\": 1, \"toothed\": 0, \"backbone\": 1, \"breathes\": 1, \"venomous\": 0, \"fins\": 0, \"legs\": 2, \"tail\": 1, \"domestic\": 0, \" cat-size\": 0, \"type\": 2}, {\"animal name\": \"herring\", \"hair\": 0, \"feathers\": 0, \"eggs\": 1, \"milk\": 0, \"airborne\": 0, \"aquatic\": 1, \"predator\": 1, \"toothed\": 1, \"backbone\": 1, \"breathes\": 0, \"venomous\": 0, \"fins\": 1, \"legs\": 0, \"tail\": 1, \"domestic\": 0, \" cat-size\": 0, \"type\": 4}, {\"animal name\": \"honeybee\", \"hair\": 1, \"feathers\": 0, \"eggs\": 1, \"milk\": 0, \"airborne\": 1, \"aquatic\": 0, \"predator\": 0, \"toothed\": 0, \"backbone\": 0, \"breathes\": 1, \"venomous\": 1, \"fins\": 0, \"legs\": 6, \"tail\": 0, \"domestic\": 1, \" cat-size\": 0, \"type\": 6}, {\"animal name\": \"housefly\", \"hair\": 1, \"feathers\": 0, \"eggs\": 1, \"milk\": 0, \"airborne\": 1, \"aquatic\": 0, \"predator\": 0, \"toothed\": 0, \"backbone\": 0, \"breathes\": 1, \"venomous\": 0, \"fins\": 0, \"legs\": 6, \"tail\": 0, \"domestic\": 0, \" cat-size\": 0, \"type\": 6}, {\"animal name\": \"kiwi\", \"hair\": 0, \"feathers\": 1, \"eggs\": 1, \"milk\": 0, \"airborne\": 0, \"aquatic\": 0, \"predator\": 1, \"toothed\": 0, \"backbone\": 1, \"breathes\": 1, \"venomous\": 0, \"fins\": 0, \"legs\": 2, \"tail\": 1, \"domestic\": 0, \" cat-size\": 0, \"type\": 2}, {\"animal name\": \"ladybird\", \"hair\": 0, \"feathers\": 0, \"eggs\": 1, \"milk\": 0, \"airborne\": 1, \"aquatic\": 0, \"predator\": 1, \"toothed\": 0, \"backbone\": 0, \"breathes\": 1, \"venomous\": 0, \"fins\": 0, \"legs\": 6, \"tail\": 0, \"domestic\": 0, \" cat-size\": 0, \"type\": 6}, {\"animal name\": \"lark\", \"hair\": 0, \"feathers\": 1, \"eggs\": 1, \"milk\": 0, \"airborne\": 1, \"aquatic\": 0, \"predator\": 0, \"toothed\": 0, \"backbone\": 1, \"breathes\": 1, \"venomous\": 0, \"fins\": 0, \"legs\": 2, \"tail\": 1, \"domestic\": 0, \" cat-size\": 0, \"type\": 2}, {\"animal name\": \"leopard\", \"hair\": 1, \"feathers\": 0, \"eggs\": 0, \"milk\": 1, \"airborne\": 0, \"aquatic\": 0, \"predator\": 1, \"toothed\": 1, \"backbone\": 1, \"breathes\": 1, \"venomous\": 0, \"fins\": 0, \"legs\": 4, \"tail\": 1, \"domestic\": 0, \" cat-size\": 1, \"type\": 1}, {\"animal name\": \"lion\", \"hair\": 1, \"feathers\": 0, \"eggs\": 0, \"milk\": 1, \"airborne\": 0, \"aquatic\": 0, \"predator\": 1, \"toothed\": 1, \"backbone\": 1, \"breathes\": 1, \"venomous\": 0, \"fins\": 0, \"legs\": 4, \"tail\": 1, \"domestic\": 0, \" cat-size\": 1, \"type\": 1}, {\"animal name\": \"lobster\", \"hair\": 0, \"feathers\": 0, \"eggs\": 1, \"milk\": 0, \"airborne\": 0, \"aquatic\": 1, \"predator\": 1, \"toothed\": 0, \"backbone\": 0, \"breathes\": 0, \"venomous\": 0, \"fins\": 0, \"legs\": 6, \"tail\": 0, \"domestic\": 0, \" cat-size\": 0, \"type\": 7}, {\"animal name\": \"lynx\", \"hair\": 1, \"feathers\": 0, \"eggs\": 0, \"milk\": 1, \"airborne\": 0, \"aquatic\": 0, \"predator\": 1, \"toothed\": 1, \"backbone\": 1, \"breathes\": 1, \"venomous\": 0, \"fins\": 0, \"legs\": 4, \"tail\": 1, \"domestic\": 0, \" cat-size\": 1, \"type\": 1}, {\"animal name\": \"mink\", \"hair\": 1, \"feathers\": 0, \"eggs\": 0, \"milk\": 1, \"airborne\": 0, \"aquatic\": 1, \"predator\": 1, \"toothed\": 1, \"backbone\": 1, \"breathes\": 1, \"venomous\": 0, \"fins\": 0, \"legs\": 4, \"tail\": 1, \"domestic\": 0, \" cat-size\": 1, \"type\": 1}, {\"animal name\": \"mole\", \"hair\": 1, \"feathers\": 0, \"eggs\": 0, \"milk\": 1, \"airborne\": 0, \"aquatic\": 0, \"predator\": 1, \"toothed\": 1, \"backbone\": 1, \"breathes\": 1, \"venomous\": 0, \"fins\": 0, \"legs\": 4, \"tail\": 1, \"domestic\": 0, \" cat-size\": 0, \"type\": 1}, {\"animal name\": \"mongoose\", \"hair\": 1, \"feathers\": 0, \"eggs\": 0, \"milk\": 1, \"airborne\": 0, \"aquatic\": 0, \"predator\": 1, \"toothed\": 1, \"backbone\": 1, \"breathes\": 1, \"venomous\": 0, \"fins\": 0, \"legs\": 4, \"tail\": 1, \"domestic\": 0, \" cat-size\": 1, \"type\": 1}, {\"animal name\": \"moth\", \"hair\": 1, \"feathers\": 0, \"eggs\": 1, \"milk\": 0, \"airborne\": 1, \"aquatic\": 0, \"predator\": 0, \"toothed\": 0, \"backbone\": 0, \"breathes\": 1, \"venomous\": 0, \"fins\": 0, \"legs\": 6, \"tail\": 0, \"domestic\": 0, \" cat-size\": 0, \"type\": 6}, {\"animal name\": \"newt\", \"hair\": 0, \"feathers\": 0, \"eggs\": 1, \"milk\": 0, \"airborne\": 0, \"aquatic\": 1, \"predator\": 1, \"toothed\": 1, \"backbone\": 1, \"breathes\": 1, \"venomous\": 0, \"fins\": 0, \"legs\": 4, \"tail\": 1, \"domestic\": 0, \" cat-size\": 0, \"type\": 5}, {\"animal name\": \"octopus\", \"hair\": 0, \"feathers\": 0, \"eggs\": 1, \"milk\": 0, \"airborne\": 0, \"aquatic\": 1, \"predator\": 1, \"toothed\": 0, \"backbone\": 0, \"breathes\": 0, \"venomous\": 0, \"fins\": 0, \"legs\": 8, \"tail\": 0, \"domestic\": 0, \" cat-size\": 1, \"type\": 7}, {\"animal name\": \"opossum\", \"hair\": 1, \"feathers\": 0, \"eggs\": 0, \"milk\": 1, \"airborne\": 0, \"aquatic\": 0, \"predator\": 1, \"toothed\": 1, \"backbone\": 1, \"breathes\": 1, \"venomous\": 0, \"fins\": 0, \"legs\": 4, \"tail\": 1, \"domestic\": 0, \" cat-size\": 0, \"type\": 1}, {\"animal name\": \"oryx\", \"hair\": 1, \"feathers\": 0, \"eggs\": 0, \"milk\": 1, \"airborne\": 0, \"aquatic\": 0, \"predator\": 0, \"toothed\": 1, \"backbone\": 1, \"breathes\": 1, \"venomous\": 0, \"fins\": 0, \"legs\": 4, \"tail\": 1, \"domestic\": 0, \" cat-size\": 1, \"type\": 1}, {\"animal name\": \"ostrich\", \"hair\": 0, \"feathers\": 1, \"eggs\": 1, \"milk\": 0, \"airborne\": 0, \"aquatic\": 0, \"predator\": 0, \"toothed\": 0, \"backbone\": 1, \"breathes\": 1, \"venomous\": 0, \"fins\": 0, \"legs\": 2, \"tail\": 1, \"domestic\": 0, \" cat-size\": 1, \"type\": 2}, {\"animal name\": \"parakeet\", \"hair\": 0, \"feathers\": 1, \"eggs\": 1, \"milk\": 0, \"airborne\": 1, \"aquatic\": 0, \"predator\": 0, \"toothed\": 0, \"backbone\": 1, \"breathes\": 1, \"venomous\": 0, \"fins\": 0, \"legs\": 2, \"tail\": 1, \"domestic\": 1, \" cat-size\": 0, \"type\": 2}, {\"animal name\": \"penguin\", \"hair\": 0, \"feathers\": 1, \"eggs\": 1, \"milk\": 0, \"airborne\": 0, \"aquatic\": 1, \"predator\": 1, \"toothed\": 0, \"backbone\": 1, \"breathes\": 1, \"venomous\": 0, \"fins\": 0, \"legs\": 2, \"tail\": 1, \"domestic\": 0, \" cat-size\": 1, \"type\": 2}, {\"animal name\": \"pheasant\", \"hair\": 0, \"feathers\": 1, \"eggs\": 1, \"milk\": 0, \"airborne\": 1, \"aquatic\": 0, \"predator\": 0, \"toothed\": 0, \"backbone\": 1, \"breathes\": 1, \"venomous\": 0, \"fins\": 0, \"legs\": 2, \"tail\": 1, \"domestic\": 0, \" cat-size\": 0, \"type\": 2}, {\"animal name\": \"pike\", \"hair\": 0, \"feathers\": 0, \"eggs\": 1, \"milk\": 0, \"airborne\": 0, \"aquatic\": 1, \"predator\": 1, \"toothed\": 1, \"backbone\": 1, \"breathes\": 0, \"venomous\": 0, \"fins\": 1, \"legs\": 0, \"tail\": 1, \"domestic\": 0, \" cat-size\": 1, \"type\": 4}, {\"animal name\": \"piranha\", \"hair\": 0, \"feathers\": 0, \"eggs\": 1, \"milk\": 0, \"airborne\": 0, \"aquatic\": 1, \"predator\": 1, \"toothed\": 1, \"backbone\": 1, \"breathes\": 0, \"venomous\": 0, \"fins\": 1, \"legs\": 0, \"tail\": 1, \"domestic\": 0, \" cat-size\": 0, \"type\": 4}, {\"animal name\": \"pitviper\", \"hair\": 0, \"feathers\": 0, \"eggs\": 1, \"milk\": 0, \"airborne\": 0, \"aquatic\": 0, \"predator\": 1, \"toothed\": 1, \"backbone\": 1, \"breathes\": 1, \"venomous\": 1, \"fins\": 0, \"legs\": 0, \"tail\": 1, \"domestic\": 0, \" cat-size\": 0, \"type\": 3}, {\"animal name\": \"platypus\", \"hair\": 1, \"feathers\": 0, \"eggs\": 1, \"milk\": 1, \"airborne\": 0, \"aquatic\": 1, \"predator\": 1, \"toothed\": 0, \"backbone\": 1, \"breathes\": 1, \"venomous\": 0, \"fins\": 0, \"legs\": 4, \"tail\": 1, \"domestic\": 0, \" cat-size\": 1, \"type\": 1}, {\"animal name\": \"polecat\", \"hair\": 1, \"feathers\": 0, \"eggs\": 0, \"milk\": 1, \"airborne\": 0, \"aquatic\": 0, \"predator\": 1, \"toothed\": 1, \"backbone\": 1, \"breathes\": 1, \"venomous\": 0, \"fins\": 0, \"legs\": 4, \"tail\": 1, \"domestic\": 0, \" cat-size\": 1, \"type\": 1}, {\"animal name\": \"pony\", \"hair\": 1, \"feathers\": 0, \"eggs\": 0, \"milk\": 1, \"airborne\": 0, \"aquatic\": 0, \"predator\": 0, \"toothed\": 1, \"backbone\": 1, \"breathes\": 1, \"venomous\": 0, \"fins\": 0, \"legs\": 4, \"tail\": 1, \"domestic\": 1, \" cat-size\": 1, \"type\": 1}, {\"animal name\": \"porpoise\", \"hair\": 0, \"feathers\": 0, \"eggs\": 0, \"milk\": 1, \"airborne\": 0, \"aquatic\": 1, \"predator\": 1, \"toothed\": 1, \"backbone\": 1, \"breathes\": 1, \"venomous\": 0, \"fins\": 1, \"legs\": 0, \"tail\": 1, \"domestic\": 0, \" cat-size\": 1, \"type\": 1}, {\"animal name\": \"puma\", \"hair\": 1, \"feathers\": 0, \"eggs\": 0, \"milk\": 1, \"airborne\": 0, \"aquatic\": 0, \"predator\": 1, \"toothed\": 1, \"backbone\": 1, \"breathes\": 1, \"venomous\": 0, \"fins\": 0, \"legs\": 4, \"tail\": 1, \"domestic\": 0, \" cat-size\": 1, \"type\": 1}, {\"animal name\": \"pussycat\", \"hair\": 1, \"feathers\": 0, \"eggs\": 0, \"milk\": 1, \"airborne\": 0, \"aquatic\": 0, \"predator\": 1, \"toothed\": 1, \"backbone\": 1, \"breathes\": 1, \"venomous\": 0, \"fins\": 0, \"legs\": 4, \"tail\": 1, \"domestic\": 1, \" cat-size\": 1, \"type\": 1}, {\"animal name\": \"raccoon\", \"hair\": 1, \"feathers\": 0, \"eggs\": 0, \"milk\": 1, \"airborne\": 0, \"aquatic\": 0, \"predator\": 1, \"toothed\": 1, \"backbone\": 1, \"breathes\": 1, \"venomous\": 0, \"fins\": 0, \"legs\": 4, \"tail\": 1, \"domestic\": 0, \" cat-size\": 1, \"type\": 1}, {\"animal name\": \"reindeer\", \"hair\": 1, \"feathers\": 0, \"eggs\": 0, \"milk\": 1, \"airborne\": 0, \"aquatic\": 0, \"predator\": 0, \"toothed\": 1, \"backbone\": 1, \"breathes\": 1, \"venomous\": 0, \"fins\": 0, \"legs\": 4, \"tail\": 1, \"domestic\": 1, \" cat-size\": 1, \"type\": 1}, {\"animal name\": \"rhea\", \"hair\": 0, \"feathers\": 1, \"eggs\": 1, \"milk\": 0, \"airborne\": 0, \"aquatic\": 0, \"predator\": 1, \"toothed\": 0, \"backbone\": 1, \"breathes\": 1, \"venomous\": 0, \"fins\": 0, \"legs\": 2, \"tail\": 1, \"domestic\": 0, \" cat-size\": 1, \"type\": 2}, {\"animal name\": \"scorpion\", \"hair\": 0, \"feathers\": 0, \"eggs\": 0, \"milk\": 0, \"airborne\": 0, \"aquatic\": 0, \"predator\": 1, \"toothed\": 0, \"backbone\": 0, \"breathes\": 1, \"venomous\": 1, \"fins\": 0, \"legs\": 8, \"tail\": 1, \"domestic\": 0, \" cat-size\": 0, \"type\": 7}, {\"animal name\": \"seahorse\", \"hair\": 0, \"feathers\": 0, \"eggs\": 1, \"milk\": 0, \"airborne\": 0, \"aquatic\": 1, \"predator\": 0, \"toothed\": 1, \"backbone\": 1, \"breathes\": 0, \"venomous\": 0, \"fins\": 1, \"legs\": 0, \"tail\": 1, \"domestic\": 0, \" cat-size\": 0, \"type\": 4}, {\"animal name\": \"seal\", \"hair\": 1, \"feathers\": 0, \"eggs\": 0, \"milk\": 1, \"airborne\": 0, \"aquatic\": 1, \"predator\": 1, \"toothed\": 1, \"backbone\": 1, \"breathes\": 1, \"venomous\": 0, \"fins\": 1, \"legs\": 0, \"tail\": 0, \"domestic\": 0, \" cat-size\": 1, \"type\": 1}, {\"animal name\": \"sealion\", \"hair\": 1, \"feathers\": 0, \"eggs\": 0, \"milk\": 1, \"airborne\": 0, \"aquatic\": 1, \"predator\": 1, \"toothed\": 1, \"backbone\": 1, \"breathes\": 1, \"venomous\": 0, \"fins\": 1, \"legs\": 2, \"tail\": 1, \"domestic\": 0, \" cat-size\": 1, \"type\": 1}, {\"animal name\": \"seasnake\", \"hair\": 0, \"feathers\": 0, \"eggs\": 0, \"milk\": 0, \"airborne\": 0, \"aquatic\": 1, \"predator\": 1, \"toothed\": 1, \"backbone\": 1, \"breathes\": 0, \"venomous\": 1, \"fins\": 0, \"legs\": 0, \"tail\": 1, \"domestic\": 0, \" cat-size\": 0, \"type\": 3}, {\"animal name\": \"seawasp\", \"hair\": 0, \"feathers\": 0, \"eggs\": 1, \"milk\": 0, \"airborne\": 0, \"aquatic\": 1, \"predator\": 1, \"toothed\": 0, \"backbone\": 0, \"breathes\": 0, \"venomous\": 1, \"fins\": 0, \"legs\": 0, \"tail\": 0, \"domestic\": 0, \" cat-size\": 0, \"type\": 7}, {\"animal name\": \"skimmer\", \"hair\": 0, \"feathers\": 1, \"eggs\": 1, \"milk\": 0, \"airborne\": 1, \"aquatic\": 1, \"predator\": 1, \"toothed\": 0, \"backbone\": 1, \"breathes\": 1, \"venomous\": 0, \"fins\": 0, \"legs\": 2, \"tail\": 1, \"domestic\": 0, \" cat-size\": 0, \"type\": 2}, {\"animal name\": \"skua\", \"hair\": 0, \"feathers\": 1, \"eggs\": 1, \"milk\": 0, \"airborne\": 1, \"aquatic\": 1, \"predator\": 1, \"toothed\": 0, \"backbone\": 1, \"breathes\": 1, \"venomous\": 0, \"fins\": 0, \"legs\": 2, \"tail\": 1, \"domestic\": 0, \" cat-size\": 0, \"type\": 2}, {\"animal name\": \"slowworm\", \"hair\": 0, \"feathers\": 0, \"eggs\": 1, \"milk\": 0, \"airborne\": 0, \"aquatic\": 0, \"predator\": 1, \"toothed\": 1, \"backbone\": 1, \"breathes\": 1, \"venomous\": 0, \"fins\": 0, \"legs\": 0, \"tail\": 1, \"domestic\": 0, \" cat-size\": 0, \"type\": 3}, {\"animal name\": \"slug\", \"hair\": 0, \"feathers\": 0, \"eggs\": 1, \"milk\": 0, \"airborne\": 0, \"aquatic\": 0, \"predator\": 0, \"toothed\": 0, \"backbone\": 0, \"breathes\": 1, \"venomous\": 0, \"fins\": 0, \"legs\": 0, \"tail\": 0, \"domestic\": 0, \" cat-size\": 0, \"type\": 7}, {\"animal name\": \"sole\", \"hair\": 0, \"feathers\": 0, \"eggs\": 1, \"milk\": 0, \"airborne\": 0, \"aquatic\": 1, \"predator\": 0, \"toothed\": 1, \"backbone\": 1, \"breathes\": 0, \"venomous\": 0, \"fins\": 1, \"legs\": 0, \"tail\": 1, \"domestic\": 0, \" cat-size\": 0, \"type\": 4}, {\"animal name\": \"sparrow\", \"hair\": 0, \"feathers\": 1, \"eggs\": 1, \"milk\": 0, \"airborne\": 1, \"aquatic\": 0, \"predator\": 0, \"toothed\": 0, \"backbone\": 1, \"breathes\": 1, \"venomous\": 0, \"fins\": 0, \"legs\": 2, \"tail\": 1, \"domestic\": 0, \" cat-size\": 0, \"type\": 2}, {\"animal name\": \"squirrel\", \"hair\": 1, \"feathers\": 0, \"eggs\": 0, \"milk\": 1, \"airborne\": 0, \"aquatic\": 0, \"predator\": 0, \"toothed\": 1, \"backbone\": 1, \"breathes\": 1, \"venomous\": 0, \"fins\": 0, \"legs\": 2, \"tail\": 1, \"domestic\": 0, \" cat-size\": 0, \"type\": 1}, {\"animal name\": \"starfish\", \"hair\": 0, \"feathers\": 0, \"eggs\": 1, \"milk\": 0, \"airborne\": 0, \"aquatic\": 1, \"predator\": 1, \"toothed\": 0, \"backbone\": 0, \"breathes\": 0, \"venomous\": 0, \"fins\": 0, \"legs\": 5, \"tail\": 0, \"domestic\": 0, \" cat-size\": 0, \"type\": 7}, {\"animal name\": \"stingray\", \"hair\": 0, \"feathers\": 0, \"eggs\": 1, \"milk\": 0, \"airborne\": 0, \"aquatic\": 1, \"predator\": 1, \"toothed\": 1, \"backbone\": 1, \"breathes\": 0, \"venomous\": 1, \"fins\": 1, \"legs\": 0, \"tail\": 1, \"domestic\": 0, \" cat-size\": 1, \"type\": 4}, {\"animal name\": \"swan\", \"hair\": 0, \"feathers\": 1, \"eggs\": 1, \"milk\": 0, \"airborne\": 1, \"aquatic\": 1, \"predator\": 0, \"toothed\": 0, \"backbone\": 1, \"breathes\": 1, \"venomous\": 0, \"fins\": 0, \"legs\": 2, \"tail\": 1, \"domestic\": 0, \" cat-size\": 1, \"type\": 2}, {\"animal name\": \"termite\", \"hair\": 0, \"feathers\": 0, \"eggs\": 1, \"milk\": 0, \"airborne\": 0, \"aquatic\": 0, \"predator\": 0, \"toothed\": 0, \"backbone\": 0, \"breathes\": 1, \"venomous\": 0, \"fins\": 0, \"legs\": 6, \"tail\": 0, \"domestic\": 0, \" cat-size\": 0, \"type\": 6}, {\"animal name\": \"toad\", \"hair\": 0, \"feathers\": 0, \"eggs\": 1, \"milk\": 0, \"airborne\": 0, \"aquatic\": 1, \"predator\": 0, \"toothed\": 1, \"backbone\": 1, \"breathes\": 1, \"venomous\": 0, \"fins\": 0, \"legs\": 4, \"tail\": 0, \"domestic\": 0, \" cat-size\": 0, \"type\": 5}, {\"animal name\": \"tortoise\", \"hair\": 0, \"feathers\": 0, \"eggs\": 1, \"milk\": 0, \"airborne\": 0, \"aquatic\": 0, \"predator\": 0, \"toothed\": 0, \"backbone\": 1, \"breathes\": 1, \"venomous\": 0, \"fins\": 0, \"legs\": 4, \"tail\": 1, \"domestic\": 0, \" cat-size\": 1, \"type\": 3}, {\"animal name\": \"tuatara\", \"hair\": 0, \"feathers\": 0, \"eggs\": 1, \"milk\": 0, \"airborne\": 0, \"aquatic\": 0, \"predator\": 1, \"toothed\": 1, \"backbone\": 1, \"breathes\": 1, \"venomous\": 0, \"fins\": 0, \"legs\": 4, \"tail\": 1, \"domestic\": 0, \" cat-size\": 0, \"type\": 3}, {\"animal name\": \"tuna\", \"hair\": 0, \"feathers\": 0, \"eggs\": 1, \"milk\": 0, \"airborne\": 0, \"aquatic\": 1, \"predator\": 1, \"toothed\": 1, \"backbone\": 1, \"breathes\": 0, \"venomous\": 0, \"fins\": 1, \"legs\": 0, \"tail\": 1, \"domestic\": 0, \" cat-size\": 1, \"type\": 4}, {\"animal name\": \"vampire\", \"hair\": 1, \"feathers\": 0, \"eggs\": 0, \"milk\": 1, \"airborne\": 1, \"aquatic\": 0, \"predator\": 0, \"toothed\": 1, \"backbone\": 1, \"breathes\": 1, \"venomous\": 0, \"fins\": 0, \"legs\": 2, \"tail\": 1, \"domestic\": 0, \" cat-size\": 0, \"type\": 1}, {\"animal name\": \"vole\", \"hair\": 1, \"feathers\": 0, \"eggs\": 0, \"milk\": 1, \"airborne\": 0, \"aquatic\": 0, \"predator\": 0, \"toothed\": 1, \"backbone\": 1, \"breathes\": 1, \"venomous\": 0, \"fins\": 0, \"legs\": 4, \"tail\": 1, \"domestic\": 0, \" cat-size\": 0, \"type\": 1}, {\"animal name\": \"vulture\", \"hair\": 0, \"feathers\": 1, \"eggs\": 1, \"milk\": 0, \"airborne\": 1, \"aquatic\": 0, \"predator\": 1, \"toothed\": 0, \"backbone\": 1, \"breathes\": 1, \"venomous\": 0, \"fins\": 0, \"legs\": 2, \"tail\": 1, \"domestic\": 0, \" cat-size\": 1, \"type\": 2}, {\"animal name\": \"wallaby\", \"hair\": 1, \"feathers\": 0, \"eggs\": 0, \"milk\": 1, \"airborne\": 0, \"aquatic\": 0, \"predator\": 0, \"toothed\": 1, \"backbone\": 1, \"breathes\": 1, \"venomous\": 0, \"fins\": 0, \"legs\": 2, \"tail\": 1, \"domestic\": 0, \" cat-size\": 1, \"type\": 1}, {\"animal name\": \"wasp\", \"hair\": 1, \"feathers\": 0, \"eggs\": 1, \"milk\": 0, \"airborne\": 1, \"aquatic\": 0, \"predator\": 0, \"toothed\": 0, \"backbone\": 0, \"breathes\": 1, \"venomous\": 1, \"fins\": 0, \"legs\": 6, \"tail\": 0, \"domestic\": 0, \" cat-size\": 0, \"type\": 6}, {\"animal name\": \"wolf\", \"hair\": 1, \"feathers\": 0, \"eggs\": 0, \"milk\": 1, \"airborne\": 0, \"aquatic\": 0, \"predator\": 1, \"toothed\": 1, \"backbone\": 1, \"breathes\": 1, \"venomous\": 0, \"fins\": 0, \"legs\": 4, \"tail\": 1, \"domestic\": 0, \" cat-size\": 1, \"type\": 1}, {\"animal name\": \"worm\", \"hair\": 0, \"feathers\": 0, \"eggs\": 1, \"milk\": 0, \"airborne\": 0, \"aquatic\": 0, \"predator\": 0, \"toothed\": 0, \"backbone\": 0, \"breathes\": 1, \"venomous\": 0, \"fins\": 0, \"legs\": 0, \"tail\": 0, \"domestic\": 0, \" cat-size\": 0, \"type\": 7}, {\"animal name\": \"wren\", \"hair\": 0, \"feathers\": 1, \"eggs\": 1, \"milk\": 0, \"airborne\": 1, \"aquatic\": 0, \"predator\": 0, \"toothed\": 0, \"backbone\": 1, \"breathes\": 1, \"venomous\": 0, \"fins\": 0, \"legs\": 2, \"tail\": 1, \"domestic\": 0, \" cat-size\": 0, \"type\": 2}]}}, {\"mode\": \"vega-lite\"});\n",
              "</script>"
            ]
          },
          "metadata": {},
          "execution_count": 13
        }
      ]
    },
    {
      "cell_type": "code",
      "metadata": {
        "id": "9bv4DODsKw0F"
      },
      "source": [
        "import plotly.express as px "
      ],
      "execution_count": 14,
      "outputs": []
    },
    {
      "cell_type": "code",
      "metadata": {
        "id": "AQXdxoaNLZA6",
        "colab": {
          "base_uri": "https://localhost:8080/",
          "height": 542
        },
        "outputId": "bea40818-f468-4090-8dd4-71a2a33c8bfe"
      },
      "source": [
        "fig = px.pie(data, values='aquatic', names='animal name', title='Porcentaje de animales acuáticos') # gráfica de pie \n",
        "fig.show() # Grafico con Plotly"
      ],
      "execution_count": 16,
      "outputs": [
        {
          "output_type": "display_data",
          "data": {
            "text/html": [
              "<html>\n",
              "<head><meta charset=\"utf-8\" /></head>\n",
              "<body>\n",
              "    <div>            <script src=\"https://cdnjs.cloudflare.com/ajax/libs/mathjax/2.7.5/MathJax.js?config=TeX-AMS-MML_SVG\"></script><script type=\"text/javascript\">if (window.MathJax) {MathJax.Hub.Config({SVG: {font: \"STIX-Web\"}});}</script>                <script type=\"text/javascript\">window.PlotlyConfig = {MathJaxConfig: 'local'};</script>\n",
              "        <script src=\"https://cdn.plot.ly/plotly-2.8.3.min.js\"></script>                <div id=\"98db4846-34cf-4125-911f-7b9ce6b9ab5c\" class=\"plotly-graph-div\" style=\"height:525px; width:100%;\"></div>            <script type=\"text/javascript\">                                    window.PLOTLYENV=window.PLOTLYENV || {};                                    if (document.getElementById(\"98db4846-34cf-4125-911f-7b9ce6b9ab5c\")) {                    Plotly.newPlot(                        \"98db4846-34cf-4125-911f-7b9ce6b9ab5c\",                        [{\"domain\":{\"x\":[0.0,1.0],\"y\":[0.0,1.0]},\"hovertemplate\":\"animal name=%{label}<br>aquatic=%{value}<extra></extra>\",\"labels\":[\"antelope\",\"bass\",\"bear\",\"boar\",\"buffalo\",\"calf\",\"carp\",\"catfish\",\"cavy\",\"cheetah\",\"chicken\",\"chub\",\"clam\",\"crab\",\"crayfish\",\"crow\",\"deer\",\"dogfish\",\"dolphin\",\"dove\",\"duck\",\"elephant\",\"flamingo\",\"flea\",\"frog\",\"frog\",\"fruitbat\",\"giraffe\",\"girl\",\"gnat\",\"goat\",\"gorilla\",\"gull\",\"haddock\",\"hamster\",\"hare\",\"hawk\",\"herring\",\"honeybee\",\"housefly\",\"kiwi\",\"ladybird\",\"lark\",\"leopard\",\"lion\",\"lobster\",\"lynx\",\"mink\",\"mole\",\"mongoose\",\"moth\",\"newt\",\"octopus\",\"opossum\",\"oryx\",\"ostrich\",\"parakeet\",\"penguin\",\"pheasant\",\"pike\",\"piranha\",\"pitviper\",\"platypus\",\"polecat\",\"pony\",\"porpoise\",\"puma\",\"pussycat\",\"raccoon\",\"reindeer\",\"rhea\",\"scorpion\",\"seahorse\",\"seal\",\"sealion\",\"seasnake\",\"seawasp\",\"skimmer\",\"skua\",\"slowworm\",\"slug\",\"sole\",\"sparrow\",\"squirrel\",\"starfish\",\"stingray\",\"swan\",\"termite\",\"toad\",\"tortoise\",\"tuatara\",\"tuna\",\"vampire\",\"vole\",\"vulture\",\"wallaby\",\"wasp\",\"wolf\",\"worm\",\"wren\"],\"legendgroup\":\"\",\"name\":\"\",\"showlegend\":true,\"values\":[0,1,0,0,0,0,1,1,0,0,0,1,0,1,1,0,0,1,1,0,1,0,0,0,1,1,0,0,0,0,0,0,1,1,0,0,0,1,0,0,0,0,0,0,0,1,0,1,0,0,0,1,1,0,0,0,0,1,0,1,1,0,1,0,0,1,0,0,0,0,0,0,1,1,1,1,1,1,1,0,0,1,0,0,1,1,1,0,1,0,0,1,0,0,0,0,0,0,0,0],\"type\":\"pie\"}],                        {\"template\":{\"data\":{\"bar\":[{\"error_x\":{\"color\":\"#2a3f5f\"},\"error_y\":{\"color\":\"#2a3f5f\"},\"marker\":{\"line\":{\"color\":\"#E5ECF6\",\"width\":0.5},\"pattern\":{\"fillmode\":\"overlay\",\"size\":10,\"solidity\":0.2}},\"type\":\"bar\"}],\"barpolar\":[{\"marker\":{\"line\":{\"color\":\"#E5ECF6\",\"width\":0.5},\"pattern\":{\"fillmode\":\"overlay\",\"size\":10,\"solidity\":0.2}},\"type\":\"barpolar\"}],\"carpet\":[{\"aaxis\":{\"endlinecolor\":\"#2a3f5f\",\"gridcolor\":\"white\",\"linecolor\":\"white\",\"minorgridcolor\":\"white\",\"startlinecolor\":\"#2a3f5f\"},\"baxis\":{\"endlinecolor\":\"#2a3f5f\",\"gridcolor\":\"white\",\"linecolor\":\"white\",\"minorgridcolor\":\"white\",\"startlinecolor\":\"#2a3f5f\"},\"type\":\"carpet\"}],\"choropleth\":[{\"colorbar\":{\"outlinewidth\":0,\"ticks\":\"\"},\"type\":\"choropleth\"}],\"contour\":[{\"colorbar\":{\"outlinewidth\":0,\"ticks\":\"\"},\"colorscale\":[[0.0,\"#0d0887\"],[0.1111111111111111,\"#46039f\"],[0.2222222222222222,\"#7201a8\"],[0.3333333333333333,\"#9c179e\"],[0.4444444444444444,\"#bd3786\"],[0.5555555555555556,\"#d8576b\"],[0.6666666666666666,\"#ed7953\"],[0.7777777777777778,\"#fb9f3a\"],[0.8888888888888888,\"#fdca26\"],[1.0,\"#f0f921\"]],\"type\":\"contour\"}],\"contourcarpet\":[{\"colorbar\":{\"outlinewidth\":0,\"ticks\":\"\"},\"type\":\"contourcarpet\"}],\"heatmap\":[{\"colorbar\":{\"outlinewidth\":0,\"ticks\":\"\"},\"colorscale\":[[0.0,\"#0d0887\"],[0.1111111111111111,\"#46039f\"],[0.2222222222222222,\"#7201a8\"],[0.3333333333333333,\"#9c179e\"],[0.4444444444444444,\"#bd3786\"],[0.5555555555555556,\"#d8576b\"],[0.6666666666666666,\"#ed7953\"],[0.7777777777777778,\"#fb9f3a\"],[0.8888888888888888,\"#fdca26\"],[1.0,\"#f0f921\"]],\"type\":\"heatmap\"}],\"heatmapgl\":[{\"colorbar\":{\"outlinewidth\":0,\"ticks\":\"\"},\"colorscale\":[[0.0,\"#0d0887\"],[0.1111111111111111,\"#46039f\"],[0.2222222222222222,\"#7201a8\"],[0.3333333333333333,\"#9c179e\"],[0.4444444444444444,\"#bd3786\"],[0.5555555555555556,\"#d8576b\"],[0.6666666666666666,\"#ed7953\"],[0.7777777777777778,\"#fb9f3a\"],[0.8888888888888888,\"#fdca26\"],[1.0,\"#f0f921\"]],\"type\":\"heatmapgl\"}],\"histogram\":[{\"marker\":{\"pattern\":{\"fillmode\":\"overlay\",\"size\":10,\"solidity\":0.2}},\"type\":\"histogram\"}],\"histogram2d\":[{\"colorbar\":{\"outlinewidth\":0,\"ticks\":\"\"},\"colorscale\":[[0.0,\"#0d0887\"],[0.1111111111111111,\"#46039f\"],[0.2222222222222222,\"#7201a8\"],[0.3333333333333333,\"#9c179e\"],[0.4444444444444444,\"#bd3786\"],[0.5555555555555556,\"#d8576b\"],[0.6666666666666666,\"#ed7953\"],[0.7777777777777778,\"#fb9f3a\"],[0.8888888888888888,\"#fdca26\"],[1.0,\"#f0f921\"]],\"type\":\"histogram2d\"}],\"histogram2dcontour\":[{\"colorbar\":{\"outlinewidth\":0,\"ticks\":\"\"},\"colorscale\":[[0.0,\"#0d0887\"],[0.1111111111111111,\"#46039f\"],[0.2222222222222222,\"#7201a8\"],[0.3333333333333333,\"#9c179e\"],[0.4444444444444444,\"#bd3786\"],[0.5555555555555556,\"#d8576b\"],[0.6666666666666666,\"#ed7953\"],[0.7777777777777778,\"#fb9f3a\"],[0.8888888888888888,\"#fdca26\"],[1.0,\"#f0f921\"]],\"type\":\"histogram2dcontour\"}],\"mesh3d\":[{\"colorbar\":{\"outlinewidth\":0,\"ticks\":\"\"},\"type\":\"mesh3d\"}],\"parcoords\":[{\"line\":{\"colorbar\":{\"outlinewidth\":0,\"ticks\":\"\"}},\"type\":\"parcoords\"}],\"pie\":[{\"automargin\":true,\"type\":\"pie\"}],\"scatter\":[{\"marker\":{\"colorbar\":{\"outlinewidth\":0,\"ticks\":\"\"}},\"type\":\"scatter\"}],\"scatter3d\":[{\"line\":{\"colorbar\":{\"outlinewidth\":0,\"ticks\":\"\"}},\"marker\":{\"colorbar\":{\"outlinewidth\":0,\"ticks\":\"\"}},\"type\":\"scatter3d\"}],\"scattercarpet\":[{\"marker\":{\"colorbar\":{\"outlinewidth\":0,\"ticks\":\"\"}},\"type\":\"scattercarpet\"}],\"scattergeo\":[{\"marker\":{\"colorbar\":{\"outlinewidth\":0,\"ticks\":\"\"}},\"type\":\"scattergeo\"}],\"scattergl\":[{\"marker\":{\"colorbar\":{\"outlinewidth\":0,\"ticks\":\"\"}},\"type\":\"scattergl\"}],\"scattermapbox\":[{\"marker\":{\"colorbar\":{\"outlinewidth\":0,\"ticks\":\"\"}},\"type\":\"scattermapbox\"}],\"scatterpolar\":[{\"marker\":{\"colorbar\":{\"outlinewidth\":0,\"ticks\":\"\"}},\"type\":\"scatterpolar\"}],\"scatterpolargl\":[{\"marker\":{\"colorbar\":{\"outlinewidth\":0,\"ticks\":\"\"}},\"type\":\"scatterpolargl\"}],\"scatterternary\":[{\"marker\":{\"colorbar\":{\"outlinewidth\":0,\"ticks\":\"\"}},\"type\":\"scatterternary\"}],\"surface\":[{\"colorbar\":{\"outlinewidth\":0,\"ticks\":\"\"},\"colorscale\":[[0.0,\"#0d0887\"],[0.1111111111111111,\"#46039f\"],[0.2222222222222222,\"#7201a8\"],[0.3333333333333333,\"#9c179e\"],[0.4444444444444444,\"#bd3786\"],[0.5555555555555556,\"#d8576b\"],[0.6666666666666666,\"#ed7953\"],[0.7777777777777778,\"#fb9f3a\"],[0.8888888888888888,\"#fdca26\"],[1.0,\"#f0f921\"]],\"type\":\"surface\"}],\"table\":[{\"cells\":{\"fill\":{\"color\":\"#EBF0F8\"},\"line\":{\"color\":\"white\"}},\"header\":{\"fill\":{\"color\":\"#C8D4E3\"},\"line\":{\"color\":\"white\"}},\"type\":\"table\"}]},\"layout\":{\"annotationdefaults\":{\"arrowcolor\":\"#2a3f5f\",\"arrowhead\":0,\"arrowwidth\":1},\"autotypenumbers\":\"strict\",\"coloraxis\":{\"colorbar\":{\"outlinewidth\":0,\"ticks\":\"\"}},\"colorscale\":{\"diverging\":[[0,\"#8e0152\"],[0.1,\"#c51b7d\"],[0.2,\"#de77ae\"],[0.3,\"#f1b6da\"],[0.4,\"#fde0ef\"],[0.5,\"#f7f7f7\"],[0.6,\"#e6f5d0\"],[0.7,\"#b8e186\"],[0.8,\"#7fbc41\"],[0.9,\"#4d9221\"],[1,\"#276419\"]],\"sequential\":[[0.0,\"#0d0887\"],[0.1111111111111111,\"#46039f\"],[0.2222222222222222,\"#7201a8\"],[0.3333333333333333,\"#9c179e\"],[0.4444444444444444,\"#bd3786\"],[0.5555555555555556,\"#d8576b\"],[0.6666666666666666,\"#ed7953\"],[0.7777777777777778,\"#fb9f3a\"],[0.8888888888888888,\"#fdca26\"],[1.0,\"#f0f921\"]],\"sequentialminus\":[[0.0,\"#0d0887\"],[0.1111111111111111,\"#46039f\"],[0.2222222222222222,\"#7201a8\"],[0.3333333333333333,\"#9c179e\"],[0.4444444444444444,\"#bd3786\"],[0.5555555555555556,\"#d8576b\"],[0.6666666666666666,\"#ed7953\"],[0.7777777777777778,\"#fb9f3a\"],[0.8888888888888888,\"#fdca26\"],[1.0,\"#f0f921\"]]},\"colorway\":[\"#636efa\",\"#EF553B\",\"#00cc96\",\"#ab63fa\",\"#FFA15A\",\"#19d3f3\",\"#FF6692\",\"#B6E880\",\"#FF97FF\",\"#FECB52\"],\"font\":{\"color\":\"#2a3f5f\"},\"geo\":{\"bgcolor\":\"white\",\"lakecolor\":\"white\",\"landcolor\":\"#E5ECF6\",\"showlakes\":true,\"showland\":true,\"subunitcolor\":\"white\"},\"hoverlabel\":{\"align\":\"left\"},\"hovermode\":\"closest\",\"mapbox\":{\"style\":\"light\"},\"paper_bgcolor\":\"white\",\"plot_bgcolor\":\"#E5ECF6\",\"polar\":{\"angularaxis\":{\"gridcolor\":\"white\",\"linecolor\":\"white\",\"ticks\":\"\"},\"bgcolor\":\"#E5ECF6\",\"radialaxis\":{\"gridcolor\":\"white\",\"linecolor\":\"white\",\"ticks\":\"\"}},\"scene\":{\"xaxis\":{\"backgroundcolor\":\"#E5ECF6\",\"gridcolor\":\"white\",\"gridwidth\":2,\"linecolor\":\"white\",\"showbackground\":true,\"ticks\":\"\",\"zerolinecolor\":\"white\"},\"yaxis\":{\"backgroundcolor\":\"#E5ECF6\",\"gridcolor\":\"white\",\"gridwidth\":2,\"linecolor\":\"white\",\"showbackground\":true,\"ticks\":\"\",\"zerolinecolor\":\"white\"},\"zaxis\":{\"backgroundcolor\":\"#E5ECF6\",\"gridcolor\":\"white\",\"gridwidth\":2,\"linecolor\":\"white\",\"showbackground\":true,\"ticks\":\"\",\"zerolinecolor\":\"white\"}},\"shapedefaults\":{\"line\":{\"color\":\"#2a3f5f\"}},\"ternary\":{\"aaxis\":{\"gridcolor\":\"white\",\"linecolor\":\"white\",\"ticks\":\"\"},\"baxis\":{\"gridcolor\":\"white\",\"linecolor\":\"white\",\"ticks\":\"\"},\"bgcolor\":\"#E5ECF6\",\"caxis\":{\"gridcolor\":\"white\",\"linecolor\":\"white\",\"ticks\":\"\"}},\"title\":{\"x\":0.05},\"xaxis\":{\"automargin\":true,\"gridcolor\":\"white\",\"linecolor\":\"white\",\"ticks\":\"\",\"title\":{\"standoff\":15},\"zerolinecolor\":\"white\",\"zerolinewidth\":2},\"yaxis\":{\"automargin\":true,\"gridcolor\":\"white\",\"linecolor\":\"white\",\"ticks\":\"\",\"title\":{\"standoff\":15},\"zerolinecolor\":\"white\",\"zerolinewidth\":2}}},\"legend\":{\"tracegroupgap\":0},\"title\":{\"text\":\"Porcentaje de animales acu\\u00e1ticos\"}},                        {\"responsive\": true}                    ).then(function(){\n",
              "                            \n",
              "var gd = document.getElementById('98db4846-34cf-4125-911f-7b9ce6b9ab5c');\n",
              "var x = new MutationObserver(function (mutations, observer) {{\n",
              "        var display = window.getComputedStyle(gd).display;\n",
              "        if (!display || display === 'none') {{\n",
              "            console.log([gd, 'removed!']);\n",
              "            Plotly.purge(gd);\n",
              "            observer.disconnect();\n",
              "        }}\n",
              "}});\n",
              "\n",
              "// Listen for the removal of the full notebook cells\n",
              "var notebookContainer = gd.closest('#notebook-container');\n",
              "if (notebookContainer) {{\n",
              "    x.observe(notebookContainer, {childList: true});\n",
              "}}\n",
              "\n",
              "// Listen for the clearing of the current output cell\n",
              "var outputEl = gd.closest('.output');\n",
              "if (outputEl) {{\n",
              "    x.observe(outputEl, {childList: true});\n",
              "}}\n",
              "\n",
              "                        })                };                            </script>        </div>\n",
              "</body>\n",
              "</html>"
            ]
          },
          "metadata": {}
        }
      ]
    },
    {
      "cell_type": "code",
      "metadata": {
        "id": "H6przlziMAKW",
        "colab": {
          "base_uri": "https://localhost:8080/",
          "height": 386
        },
        "outputId": "c20461ad-7991-46ff-c2e9-5f0ead63eeb0"
      },
      "source": [
        "sns.displot(data) #gráfica de barras "
      ],
      "execution_count": 17,
      "outputs": [
        {
          "output_type": "execute_result",
          "data": {
            "text/plain": [
              "<seaborn.axisgrid.FacetGrid at 0x7f0934fb8310>"
            ]
          },
          "metadata": {},
          "execution_count": 17
        },
        {
          "output_type": "display_data",
          "data": {
            "image/png": "[encoded data removed]",
            "text/plain": [
              "<Figure size 447.625x360 with 1 Axes>"
            ]
          },
          "metadata": {
            "needs_background": "light"
          }
        }
      ]
    },
    {
      "cell_type": "code",
      "metadata": {
        "id": "yrC7jiOwMpUn",
        "colab": {
          "base_uri": "https://localhost:8080/",
          "height": 386
        },
        "outputId": "50e9466f-7f29-4631-e7f5-a6e8ca104b29"
      },
      "source": [
        "sns.displot(data, x=\"airborne\", kind=\"kde\") # distribucion de frecuencia. Una sola columna y el estilo"
      ],
      "execution_count": 18,
      "outputs": [
        {
          "output_type": "execute_result",
          "data": {
            "text/plain": [
              "<seaborn.axisgrid.FacetGrid at 0x7f092bf03e50>"
            ]
          },
          "metadata": {},
          "execution_count": 18
        },
        {
          "output_type": "display_data",
          "data": {
            "image/png": "[encoded data removed]",
            "text/plain": [
              "<Figure size 360x360 with 1 Axes>"
            ]
          },
          "metadata": {
            "needs_background": "light"
          }
        }
      ]
    },
    {
      "cell_type": "markdown",
      "metadata": {
        "id": "Rz9HOZ6zNLnt"
      },
      "source": [
        "Para mayot infomacion de las librerias \n",
        "\n",
        "*  Altait = [link text](https://altair-viz.github.io/gallery/index.html#)\n",
        "*   plotly = [link text](https://plotly.com/)\n",
        "*   seaborn = [link text](https://seaborn.pydata.org/index.html)\n",
        "\n",
        "\n",
        "\n"
      ]
    }
  ]
}